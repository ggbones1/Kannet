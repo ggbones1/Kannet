{
 "cells": [
  {
   "cell_type": "code",
   "execution_count": 2,
   "metadata": {},
   "outputs": [
    {
     "ename": "RuntimeError",
     "evalue": "Error(s) in loading state_dict for KAN:\n\tUnexpected key(s) in state_dict: \"grid_3\", \"grid_4\", \"grid_5\", \"base_weights.3\", \"base_weights.4\", \"base_weights.5\", \"spline_weights.3\", \"spline_weights.4\", \"spline_weights.5\", \"layer_norms.3.weight\", \"layer_norms.3.bias\", \"layer_norms.4.weight\", \"layer_norms.4.bias\", \"layer_norms.5.weight\", \"layer_norms.5.bias\", \"prelus.3.weight\", \"prelus.4.weight\", \"prelus.5.weight\". \n\tsize mismatch for grid_1: copying a param with shape torch.Size([64, 12]) from checkpoint, the shape in current model is torch.Size([9, 12]).\n\tsize mismatch for grid_2: copying a param with shape torch.Size([64, 12]) from checkpoint, the shape in current model is torch.Size([5, 12]).\n\tsize mismatch for base_weights.0: copying a param with shape torch.Size([64, 4]) from checkpoint, the shape in current model is torch.Size([9, 4]).\n\tsize mismatch for base_weights.1: copying a param with shape torch.Size([64, 64]) from checkpoint, the shape in current model is torch.Size([5, 9]).\n\tsize mismatch for base_weights.2: copying a param with shape torch.Size([32, 64]) from checkpoint, the shape in current model is torch.Size([2, 5]).\n\tsize mismatch for spline_weights.0: copying a param with shape torch.Size([64, 4, 8]) from checkpoint, the shape in current model is torch.Size([9, 4, 8]).\n\tsize mismatch for spline_weights.1: copying a param with shape torch.Size([64, 64, 8]) from checkpoint, the shape in current model is torch.Size([5, 9, 8]).\n\tsize mismatch for spline_weights.2: copying a param with shape torch.Size([32, 64, 8]) from checkpoint, the shape in current model is torch.Size([2, 5, 8]).\n\tsize mismatch for layer_norms.0.weight: copying a param with shape torch.Size([64]) from checkpoint, the shape in current model is torch.Size([9]).\n\tsize mismatch for layer_norms.0.bias: copying a param with shape torch.Size([64]) from checkpoint, the shape in current model is torch.Size([9]).\n\tsize mismatch for layer_norms.1.weight: copying a param with shape torch.Size([64]) from checkpoint, the shape in current model is torch.Size([5]).\n\tsize mismatch for layer_norms.1.bias: copying a param with shape torch.Size([64]) from checkpoint, the shape in current model is torch.Size([5]).\n\tsize mismatch for layer_norms.2.weight: copying a param with shape torch.Size([32]) from checkpoint, the shape in current model is torch.Size([2]).\n\tsize mismatch for layer_norms.2.bias: copying a param with shape torch.Size([32]) from checkpoint, the shape in current model is torch.Size([2]).",
     "output_type": "error",
     "traceback": [
      "\u001b[1;31m---------------------------------------------------------------------------\u001b[0m",
      "\u001b[1;31mRuntimeError\u001b[0m                              Traceback (most recent call last)",
      "Cell \u001b[1;32mIn[2], line 39\u001b[0m\n\u001b[0;32m     36\u001b[0m     \u001b[38;5;28;01mreturn\u001b[39;00m model\n\u001b[0;32m     38\u001b[0m \u001b[38;5;66;03m# Example usage:\u001b[39;00m\n\u001b[1;32m---> 39\u001b[0m kan_model \u001b[38;5;241m=\u001b[39m \u001b[43mload_model\u001b[49m\u001b[43m(\u001b[49m\u001b[43mKAN\u001b[49m\u001b[43m,\u001b[49m\u001b[43m \u001b[49m\u001b[38;5;124;43m\"\u001b[39;49m\u001b[38;5;124;43mkan inverse.pth\u001b[39;49m\u001b[38;5;124;43m\"\u001b[39;49m\u001b[43m,\u001b[49m\u001b[43m \u001b[49m\u001b[43mlayers\u001b[49m\u001b[43m)\u001b[49m\n\u001b[0;32m     40\u001b[0m mlp_model \u001b[38;5;241m=\u001b[39m load_model(MLP, \u001b[38;5;124m\"\u001b[39m\u001b[38;5;124mmlp inverse.pth\u001b[39m\u001b[38;5;124m\"\u001b[39m, layers)\n\u001b[0;32m     41\u001b[0m kac_model \u001b[38;5;241m=\u001b[39m load_model(KAC_Net, \u001b[38;5;124m\"\u001b[39m\u001b[38;5;124mkac_net inverse.pth\u001b[39m\u001b[38;5;124m\"\u001b[39m, layers)\n",
      "Cell \u001b[1;32mIn[2], line 34\u001b[0m, in \u001b[0;36mload_model\u001b[1;34m(model_class, model_path, layers)\u001b[0m\n\u001b[0;32m     32\u001b[0m \u001b[38;5;28;01mdef\u001b[39;00m \u001b[38;5;21mload_model\u001b[39m(model_class, model_path, layers):\n\u001b[0;32m     33\u001b[0m     model \u001b[38;5;241m=\u001b[39m model_class(layers)\n\u001b[1;32m---> 34\u001b[0m     \u001b[43mmodel\u001b[49m\u001b[38;5;241;43m.\u001b[39;49m\u001b[43mload_state_dict\u001b[49m\u001b[43m(\u001b[49m\u001b[43mtorch\u001b[49m\u001b[38;5;241;43m.\u001b[39;49m\u001b[43mload\u001b[49m\u001b[43m(\u001b[49m\u001b[43mmodel_path\u001b[49m\u001b[43m)\u001b[49m\u001b[43m)\u001b[49m\n\u001b[0;32m     35\u001b[0m     model\u001b[38;5;241m.\u001b[39meval()\n\u001b[0;32m     36\u001b[0m     \u001b[38;5;28;01mreturn\u001b[39;00m model\n",
      "File \u001b[1;32mf:\\mycode\\pykan\\kannet\\Lib\\site-packages\\torch\\nn\\modules\\module.py:2189\u001b[0m, in \u001b[0;36mModule.load_state_dict\u001b[1;34m(self, state_dict, strict, assign)\u001b[0m\n\u001b[0;32m   2184\u001b[0m         error_msgs\u001b[38;5;241m.\u001b[39minsert(\n\u001b[0;32m   2185\u001b[0m             \u001b[38;5;241m0\u001b[39m, \u001b[38;5;124m'\u001b[39m\u001b[38;5;124mMissing key(s) in state_dict: \u001b[39m\u001b[38;5;132;01m{}\u001b[39;00m\u001b[38;5;124m. \u001b[39m\u001b[38;5;124m'\u001b[39m\u001b[38;5;241m.\u001b[39mformat(\n\u001b[0;32m   2186\u001b[0m                 \u001b[38;5;124m'\u001b[39m\u001b[38;5;124m, \u001b[39m\u001b[38;5;124m'\u001b[39m\u001b[38;5;241m.\u001b[39mjoin(\u001b[38;5;124mf\u001b[39m\u001b[38;5;124m'\u001b[39m\u001b[38;5;124m\"\u001b[39m\u001b[38;5;132;01m{\u001b[39;00mk\u001b[38;5;132;01m}\u001b[39;00m\u001b[38;5;124m\"\u001b[39m\u001b[38;5;124m'\u001b[39m \u001b[38;5;28;01mfor\u001b[39;00m k \u001b[38;5;129;01min\u001b[39;00m missing_keys)))\n\u001b[0;32m   2188\u001b[0m \u001b[38;5;28;01mif\u001b[39;00m \u001b[38;5;28mlen\u001b[39m(error_msgs) \u001b[38;5;241m>\u001b[39m \u001b[38;5;241m0\u001b[39m:\n\u001b[1;32m-> 2189\u001b[0m     \u001b[38;5;28;01mraise\u001b[39;00m \u001b[38;5;167;01mRuntimeError\u001b[39;00m(\u001b[38;5;124m'\u001b[39m\u001b[38;5;124mError(s) in loading state_dict for \u001b[39m\u001b[38;5;132;01m{}\u001b[39;00m\u001b[38;5;124m:\u001b[39m\u001b[38;5;130;01m\\n\u001b[39;00m\u001b[38;5;130;01m\\t\u001b[39;00m\u001b[38;5;132;01m{}\u001b[39;00m\u001b[38;5;124m'\u001b[39m\u001b[38;5;241m.\u001b[39mformat(\n\u001b[0;32m   2190\u001b[0m                        \u001b[38;5;28mself\u001b[39m\u001b[38;5;241m.\u001b[39m\u001b[38;5;18m__class__\u001b[39m\u001b[38;5;241m.\u001b[39m\u001b[38;5;18m__name__\u001b[39m, \u001b[38;5;124m\"\u001b[39m\u001b[38;5;130;01m\\n\u001b[39;00m\u001b[38;5;130;01m\\t\u001b[39;00m\u001b[38;5;124m\"\u001b[39m\u001b[38;5;241m.\u001b[39mjoin(error_msgs)))\n\u001b[0;32m   2191\u001b[0m \u001b[38;5;28;01mreturn\u001b[39;00m _IncompatibleKeys(missing_keys, unexpected_keys)\n",
      "\u001b[1;31mRuntimeError\u001b[0m: Error(s) in loading state_dict for KAN:\n\tUnexpected key(s) in state_dict: \"grid_3\", \"grid_4\", \"grid_5\", \"base_weights.3\", \"base_weights.4\", \"base_weights.5\", \"spline_weights.3\", \"spline_weights.4\", \"spline_weights.5\", \"layer_norms.3.weight\", \"layer_norms.3.bias\", \"layer_norms.4.weight\", \"layer_norms.4.bias\", \"layer_norms.5.weight\", \"layer_norms.5.bias\", \"prelus.3.weight\", \"prelus.4.weight\", \"prelus.5.weight\". \n\tsize mismatch for grid_1: copying a param with shape torch.Size([64, 12]) from checkpoint, the shape in current model is torch.Size([9, 12]).\n\tsize mismatch for grid_2: copying a param with shape torch.Size([64, 12]) from checkpoint, the shape in current model is torch.Size([5, 12]).\n\tsize mismatch for base_weights.0: copying a param with shape torch.Size([64, 4]) from checkpoint, the shape in current model is torch.Size([9, 4]).\n\tsize mismatch for base_weights.1: copying a param with shape torch.Size([64, 64]) from checkpoint, the shape in current model is torch.Size([5, 9]).\n\tsize mismatch for base_weights.2: copying a param with shape torch.Size([32, 64]) from checkpoint, the shape in current model is torch.Size([2, 5]).\n\tsize mismatch for spline_weights.0: copying a param with shape torch.Size([64, 4, 8]) from checkpoint, the shape in current model is torch.Size([9, 4, 8]).\n\tsize mismatch for spline_weights.1: copying a param with shape torch.Size([64, 64, 8]) from checkpoint, the shape in current model is torch.Size([5, 9, 8]).\n\tsize mismatch for spline_weights.2: copying a param with shape torch.Size([32, 64, 8]) from checkpoint, the shape in current model is torch.Size([2, 5, 8]).\n\tsize mismatch for layer_norms.0.weight: copying a param with shape torch.Size([64]) from checkpoint, the shape in current model is torch.Size([9]).\n\tsize mismatch for layer_norms.0.bias: copying a param with shape torch.Size([64]) from checkpoint, the shape in current model is torch.Size([9]).\n\tsize mismatch for layer_norms.1.weight: copying a param with shape torch.Size([64]) from checkpoint, the shape in current model is torch.Size([5]).\n\tsize mismatch for layer_norms.1.bias: copying a param with shape torch.Size([64]) from checkpoint, the shape in current model is torch.Size([5]).\n\tsize mismatch for layer_norms.2.weight: copying a param with shape torch.Size([32]) from checkpoint, the shape in current model is torch.Size([2]).\n\tsize mismatch for layer_norms.2.bias: copying a param with shape torch.Size([32]) from checkpoint, the shape in current model is torch.Size([2])."
     ]
    }
   ],
   "source": [
    "import torch\n",
    "import torch\n",
    "import torch.nn as nn\n",
    "import numpy as np\n",
    "import pandas as pd\n",
    "import wandb\n",
    "from torch.utils.data import DataLoader, TensorDataset, random_split\n",
    "import torch.optim as optim\n",
    "from torchkan import KAN\n",
    "from KACnet import KAC_Net\n",
    "from KALnet import KAL_Net\n",
    "import pandas as pd\n",
    "from sklearn.neural_network import MLPRegressor\n",
    "from sklearn.metrics import r2_score, mean_squared_error\n",
    "import matplotlib.pyplot as plt\n",
    "import numpy as np\n",
    "import torch\n",
    "# 定义MLP模型\n",
    "class MLP(nn.Module):\n",
    "    def __init__(self, layers):\n",
    "        super(MLP, self).__init__()\n",
    "        mlp_layers = []\n",
    "        for i in range(len(layers) - 1):\n",
    "            mlp_layers.append(nn.Linear(layers[i], layers[i+1]))\n",
    "            if i < len(layers) - 2:\n",
    "                mlp_layers.append(nn.ReLU())\n",
    "        self.model = nn.Sequential(*mlp_layers)\n",
    "\n",
    "    def forward(self, x):\n",
    "        return self.model(x)\n",
    "layers=[4, 9, 5, 2]\n",
    "def load_model(model_class, model_path, layers):\n",
    "    model = model_class(layers)\n",
    "    model.load_state_dict(torch.load(model_path))\n",
    "    model.eval()\n",
    "    return model\n",
    "\n",
    "# Example usage:\n",
    "kan_model = load_model(KAN, \"kan inverse.pth\", layers)\n",
    "mlp_model = load_model(MLP, \"mlp inverse.pth\", layers)\n",
    "kac_model = load_model(KAC_Net, \"kac_net inverse.pth\", layers)\n",
    "kal_model = load_model(KAL_Net, \"kal_net inverse.pth\", layers)\n"
   ]
  }
 ],
 "metadata": {
  "kernelspec": {
   "display_name": "Python 3",
   "language": "python",
   "name": "python3"
  },
  "language_info": {
   "codemirror_mode": {
    "name": "ipython",
    "version": 3
   },
   "file_extension": ".py",
   "mimetype": "text/x-python",
   "name": "python",
   "nbconvert_exporter": "python",
   "pygments_lexer": "ipython3",
   "version": "3.11.9"
  }
 },
 "nbformat": 4,
 "nbformat_minor": 2
}

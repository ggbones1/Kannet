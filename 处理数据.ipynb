{
 "cells": [
  {
   "cell_type": "code",
   "execution_count": 37,
   "metadata": {},
   "outputs": [],
   "source": [
    "import pandas as pd\n",
    "import numpy as np\n",
    "df1 = pd.read_excel(r'c:\\\\Users\\\\liquanbo\\\\Documents\\\\WeChat Files\\\\wxid_gpvcwl5ukthi22\\\\FileStorage\\\\File\\\\2024-06\\\\0.5-中心1-流量数据.xlsx',sheet_name='插值速度x')\n",
    "df2 = pd.read_excel(r'c:\\\\Users\\\\liquanbo\\\\Documents\\\\WeChat Files\\\\wxid_gpvcwl5ukthi22\\\\FileStorage\\\\File\\\\2024-06\\\\0.5-中心1-流量数据.xlsx',sheet_name='插值速度y')\n",
    "df3 = pd.read_excel(r'c:\\\\Users\\\\liquanbo\\\\Documents\\\\WeChat Files\\\\wxid_gpvcwl5ukthi22\\\\FileStorage\\\\File\\\\2024-06\\\\0.5-中心1-流量数据.xlsx',sheet_name='插值速度v')\n",
    "arr1 = df1.to_numpy().flatten()\n",
    "arr2 = df2.to_numpy().flatten()\n",
    "arr3 = df3.to_numpy().flatten()"
   ]
  },
  {
   "cell_type": "code",
   "execution_count": 2,
   "metadata": {},
   "outputs": [
    {
     "name": "stdout",
     "output_type": "stream",
     "text": [
      "(100, 100)\n",
      "(10000,)\n",
      "(10000,)\n",
      "(10000,)\n"
     ]
    }
   ],
   "source": [
    "print(df1.shape)\n",
    "print(arr1.shape)\n",
    "print(arr2.shape)\n",
    "print(arr3.shape)\n"
   ]
  },
  {
   "cell_type": "code",
   "execution_count": null,
   "metadata": {},
   "outputs": [],
   "source": [
    "import numpy as np\n",
    "from scipy.integrate import simps\n",
    "\n",
    "# 示例数据\n",
    "x = arr1[9000:]\n",
    "y = arr2[9000:]\n",
    "z = arr3[9000:]\n",
    "#data = np.zeros((1000, 1000, 1000),dtype=np.float32)\n",
    "data = np.random.rand(1000, 1000, 1000)\n",
    "#data = df1.to_numpy()\n",
    "# 计算积分\n",
    "integral = simps(simps(simps(data, z), y), x)\n",
    "print(\"三维积分结果:\", integral)\n"
   ]
  },
  {
   "cell_type": "code",
   "execution_count": null,
   "metadata": {},
   "outputs": [],
   "source": [
    "import numpy as np\n",
    "from scipy.integrate import simps\n",
    "\n",
    "# 示例数据\n",
    "x = arr1\n",
    "y = arr2\n",
    "z = arr3\n",
    "\n",
    "\n",
    "# 定义块的大小\n",
    "block_size = 1000\n",
    "\n",
    "# 分块计算积分\n",
    "def integrate_block(x_block, y_block, z_block, data_block):\n",
    "    return simps(simps(simps(data_block, z_block), y_block), x_block)\n",
    "\n",
    "# 初始化积分结果\n",
    "total_integral = 0.0\n",
    "\n",
    "# 计算每个块的积分并累加\n",
    "for i in range(0, 10, block_size):\n",
    "    for j in range(0, 10, block_size):\n",
    "        for k in range(0, 10, block_size):\n",
    "            x_block = x[i:i+block_size]\n",
    "            y_block = y[j:j+block_size]\n",
    "            z_block = z[k:k+block_size]\n",
    "            data_block =np.random.rand(1000, 1000, 1000)\n",
    "            \n",
    "            block_integral = integrate_block(x_block, y_block, z_block, data_block)\n",
    "            total_integral += block_integral\n",
    "\n",
    "print(\"三维积分结果:\", total_integral)\n",
    "\n"
   ]
  },
  {
   "cell_type": "code",
   "execution_count": 38,
   "metadata": {},
   "outputs": [
    {
     "name": "stderr",
     "output_type": "stream",
     "text": [
      "C:\\Users\\liquanbo\\AppData\\Local\\Temp\\ipykernel_29448\\1632636913.py:17: DeprecationWarning: 'scipy.integrate.simps' is deprecated in favour of 'scipy.integrate.simpson' and will be removed in SciPy 1.14.0\n",
      "  return simps(simps(simps(data_block, z_block), y_block), x_block)\n"
     ]
    },
    {
     "name": "stdout",
     "output_type": "stream",
     "text": [
      "三维积分结果: 446480.6560734591\n"
     ]
    }
   ],
   "source": [
    "\n",
    "import numpy as np\n",
    "from scipy.integrate import simps\n",
    "\n",
    "# 示例数据\n",
    "x = arr1\n",
    "y = arr2\n",
    "z = arr3\n",
    "n=10 # 块数\n",
    "# 初始化积分结果\n",
    "total_integral = 0.0\n",
    "\n",
    "# 定义块的大小\n",
    "block_size = len(x) // n\n",
    "\n",
    "# 分块计算积分\n",
    "def integrate_block(x_block, y_block, z_block, data_block):\n",
    "    return simps(simps(simps(data_block, z_block), y_block), x_block)\n",
    "# 将数据均匀分成十段\n",
    "x= np.array_split(arr1, n, axis=0)\n",
    "y= np.array_split(arr2, n, axis=0)\n",
    "z= np.array_split(arr3, n, axis=0)\n",
    "for k in range(0, n, block_size):\n",
    "            x_block = x[k]\n",
    "            y_block = y[k]\n",
    "            z_block = z[k]\n",
    "            data_block =np.random.rand(1000, 1000, 1000)\n",
    "            \n",
    "            block_integral = integrate_block(x_block, y_block, z_block, data_block)\n",
    "            total_integral += block_integral\n",
    "\n",
    "print(\"三维积分结果:\", total_integral)\n"
   ]
  },
  {
   "cell_type": "code",
   "execution_count": 46,
   "metadata": {},
   "outputs": [
    {
     "name": "stdout",
     "output_type": "stream",
     "text": [
      "三维积分结果: 0.5051037008511753\n"
     ]
    },
    {
     "name": "stderr",
     "output_type": "stream",
     "text": [
      "C:\\Users\\liquanbo\\AppData\\Local\\Temp\\ipykernel_29448\\3554423102.py:11: DeprecationWarning: 'scipy.integrate.simps' is deprecated in favour of 'scipy.integrate.simpson' and will be removed in SciPy 1.14.0\n",
      "  integral = simps(simps(simps(data, z), y), x)\n"
     ]
    }
   ],
   "source": [
    "import numpy as np\n",
    "from scipy.integrate import simps\n",
    "\n",
    "# 示例数据\n",
    "x = np.linspace(0, 1, 10)\n",
    "y = np.linspace(0, 1, 10)\n",
    "z = np.linspace(0, 1, 10)\n",
    "data = np.random.rand(10, 10, 10)\n",
    "\n",
    "# 计算积分\n",
    "integral = simps(simps(simps(data, z), y), x)\n",
    "print(\"三维积分结果:\", integral)\n"
   ]
  }
 ],
 "metadata": {
  "kernelspec": {
   "display_name": "Python 3",
   "language": "python",
   "name": "python3"
  },
  "language_info": {
   "codemirror_mode": {
    "name": "ipython",
    "version": 3
   },
   "file_extension": ".py",
   "mimetype": "text/x-python",
   "name": "python",
   "nbconvert_exporter": "python",
   "pygments_lexer": "ipython3",
   "version": "3.11.9"
  }
 },
 "nbformat": 4,
 "nbformat_minor": 2
}
